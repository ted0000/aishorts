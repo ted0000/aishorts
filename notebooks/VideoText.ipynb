{
 "cells": [
  {
   "cell_type": "code",
   "execution_count": null,
   "metadata": {},
   "outputs": [],
   "source": [
    "import speech_recognition as sr\n",
    "from pydub import AudioSegment\n",
    "import srt\n",
    "import datetime\n",
    "\n",
    "def transcribe_audio(audio_file, text_file):\n",
    "    \"\"\"\n",
    "    음성 파일을 텍스트로 변환하고 단어별 타임스탬프를 생성합니다.\n",
    "\n",
    "    Args:\n",
    "        audio_file: 오디오 파일 경로\n",
    "        text_file: 텍스트 파일 경로 (주어진 대사 텍스트)\n",
    "\n",
    "    Returns:\n",
    "        List: 자막 객체(srt.Subtitle) 리스트\n",
    "    \"\"\"\n",
    "\n",
    "    r = sr.Recognizer()\n",
    "    audio = AudioSegment.from_file(audio_file)\n",
    "    \n",
    "    with open(text_file, \"r\", encoding=\"utf-8\") as f:\n",
    "        script = f.read().split()\n",
    "\n",
    "    # Google Web Speech API를 사용하여 음성 인식\n",
    "    try:\n",
    "        audio_data = sr.AudioFile(audio_file)\n",
    "        with audio_data as source:\n",
    "            r.adjust_for_ambient_noise(source)  # 노이즈 제거\n",
    "            audio_text = r.record(source)\n",
    "            result = r.recognize_google(audio_text, show_all=True, language='ko-KR')\n",
    "            \n",
    "        # 결과가 없는 경우 예외 처리\n",
    "        if not result or 'alternative' not in result:\n",
    "            raise sr.UnknownValueError(\"음성 인식 결과가 없거나 유효하지 않습니다.\")\n",
    "\n",
    "        words = result['alternative'][0]['transcript'].split()\n",
    "    except sr.UnknownValueError:\n",
    "        print(\"음성을 인식할 수 없습니다.\")\n",
    "        return []\n",
    "    except sr.RequestError as e:\n",
    "        print(f\"Google Speech Recognition 서비스에 접근할 수 없습니다.; {e}\")\n",
    "        return []\n",
    "\n",
    "    subtitles = []\n",
    "    word_idx = 0\n",
    "    for word_info in words:\n",
    "        word = word_info['word']\n",
    "        start_time = word_info['startTime'][:-1] # 's' 제거\n",
    "        end_time = word_info['endTime'][:-1]  # 's' 제거\n",
    "        \n",
    "\n",
    "        start_time = datetime.timedelta(seconds=float(start_time))\n",
    "        end_time = datetime.timedelta(seconds=float(end_time))\n",
    "\n",
    "        content = \"\"\n",
    "        while word_idx < len(script) and (content + \" \" + script[word_idx]).strip() == word:\n",
    "            content = (content + \" \" + script[word_idx]).strip()\n",
    "            word_idx += 1\n",
    "\n",
    "        if content:  # 빈 content는 추가하지 않음\n",
    "            subtitle = srt.Subtitle(index=len(subtitles) + 1, start=start_time, end=end_time, content=content)\n",
    "            subtitles.append(subtitle)\n",
    "\n",
    "    return subtitles\n",
    "\n",
    "def create_srt_file(subtitles, srt_file):\n",
    "    \"\"\"\n",
    "    srt 자막 파일을 생성합니다.\n",
    "\n",
    "    Args:\n",
    "        subtitles: 자막 객체(srt.Subtitle) 리스트\n",
    "        srt_file: 생성할 srt 파일 경로\n",
    "    \"\"\"\n",
    "    with open(srt_file, \"w\", encoding=\"utf-8\") as f:\n",
    "        f.write(srt.compose(subtitles))\n",
    "\n",
    "\n",
    "audio_file = \"/Users/1004507/work/aishorts/temp/experiment1/1.wav\"  # 오디오 파일 경로를 입력하세요.\n",
    "text_file = \"/Users/1004507/work/aishorts/temp/experiment1/1.txt\"  # 텍스트 파일 경로를 입력하세요.\n",
    "srt_file = \"result.srt\"  # 생성할 자막 파일 경로를 입력하세요.\n",
    "\n",
    "# 대사 텍스트 파일 생성 (이미 있다면 생략)\n",
    "with open(text_file, \"w\", encoding=\"utf-8\") as f:\n",
    "    f.write(\"안녕하세요, 삼신아이 송지호입니다. 겨울철 임산부에게 추천하는 두 가지 음식 알려드릴게요! 첫 번째는 단호박이에요. 비타민 A와 섬유질이 풍부해서 태아의 성장과 임산부의 변비 예방에 좋아요. 두 번째는 고구마입니다. 따뜻한 성질을 가지고 있어서 몸을 데워주고 에너지를 보충해주죠. 이 두 가지 음식으로 건강한 겨울 보내세요! 다음에도 유익한 정보로 찾아뵐게요!\")\n",
    "\n",
    "subtitles = transcribe_audio(audio_file, text_file)\n",
    "if subtitles:\n",
    "    create_srt_file(subtitles, srt_file)\n",
    "    print(f\"자막 파일이 {srt_file}에 생성되었습니다.\")"
   ]
  },
  {
   "cell_type": "code",
   "execution_count": 5,
   "metadata": {},
   "outputs": [
    {
     "data": {
      "text/plain": [
       "<_io.BufferedRandom name='1.wav'>"
      ]
     },
     "execution_count": 5,
     "metadata": {},
     "output_type": "execute_result"
    }
   ],
   "source": [
    "from pydub import AudioSegment\n",
    "\n",
    "audio_path = '/Users/1004507/work/aishorts/temp/experiment1/1.mp3'\n",
    "# MP3 파일을 WAV로 변환\n",
    "audio = AudioSegment.from_mp3(audio_path)\n",
    "audio.export(\"1.wav\", format=\"wav\")"
   ]
  },
  {
   "cell_type": "code",
   "execution_count": null,
   "metadata": {},
   "outputs": [],
   "source": []
  }
 ],
 "metadata": {
  "kernelspec": {
   "display_name": "aishorts",
   "language": "python",
   "name": "python3"
  },
  "language_info": {
   "codemirror_mode": {
    "name": "ipython",
    "version": 3
   },
   "file_extension": ".py",
   "mimetype": "text/x-python",
   "name": "python",
   "nbconvert_exporter": "python",
   "pygments_lexer": "ipython3",
   "version": "3.11.11"
  }
 },
 "nbformat": 4,
 "nbformat_minor": 2
}
