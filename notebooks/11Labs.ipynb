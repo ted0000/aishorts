{
 "cells": [
  {
   "cell_type": "code",
   "execution_count": 8,
   "metadata": {},
   "outputs": [],
   "source": [
    "import os\n",
    "from elevenlabs.client import ElevenLabs\n",
    "from elevenlabs import play, save\n",
    "\n",
    "from dotenv import load_dotenv\n",
    "\n",
    "load_dotenv(override=True)\n",
    "\n",
    "client = ElevenLabs(\n",
    "    api_key=os.getenv(\"11LABS_API_KEY\"),\n",
    ")\n",
    "\n",
    "audio = client.text_to_speech.convert(\n",
    "    text=\"안녕하십니까? 손에잡히는 경제 이진우입니다.지난해 국내 소비가 21년 만에 최악을 기록했습니다.\",\n",
    "    voice_id=\"pQdYAZF8tI1mVjDgVzmU\",\n",
    "    model_id=\"eleven_multilingual_v2\",\n",
    "    output_format=\"mp3_44100_128\",\n",
    ")\n",
    "\n",
    "# play(audio)\n",
    "save(audio, \"output.mp3\")\n"
   ]
  },
  {
   "cell_type": "code",
   "execution_count": 7,
   "metadata": {},
   "outputs": [
    {
     "name": "stdout",
     "output_type": "stream",
     "text": [
      "오류 발생: 401 - {\"detail\":{\"status\":\"invalid_authorization_header\",\"message\":\"Provided authorization header was invalid (Wrong number of segments in token: b'sk_f70df9183244b30539638dc17544ac430859cf4c152f0562'): Bearer sk_f70df9183244b30539638dc17544ac430859cf4c152f0562\"}}\n"
     ]
    }
   ],
   "source": [
    "import requests\n",
    "import os\n",
    "\n",
    "url = \"https://api.elevenlabs.io/v1/text-to-speech/convert\"\n",
    "from dotenv import load_dotenv\n",
    "\n",
    "load_dotenv(override=True)\n",
    "\n",
    "api_key = os.getenv(\"11LABS_API_KEY\")\n",
    "\n",
    "headers = {\n",
    "    \"Authorization\": f\"Bearer {api_key}\",\n",
    "    \"Content-Type\": \"application/json\",\n",
    "}\n",
    "\n",
    "data = {\n",
    "    \"text\": \"안녕하십니까? 손에잡히는 경제 이진우입니다. 지난해 국내 소비가 21년 만에 최악을 기록했습니다.\",\n",
    "    \"voice_id\": \"pQdYAZF8tI1mVjDgVzmU\",\n",
    "    \"model_id\": \"eleven_multilingual_v2\",\n",
    "    \"output_format\": \"mp3_44100_128\",\n",
    "}\n",
    "\n",
    "response = requests.post(url, headers=headers, json=data)\n",
    "\n",
    "if response.status_code == 200:\n",
    "    audio_data = response.content\n",
    "    with open(\"output_audio.mp3\", \"wb\") as audio_file:\n",
    "        audio_file.write(audio_data)\n",
    "    print(\"오디오 파일이 성공적으로 저장되었습니다.\")\n",
    "else:\n",
    "    print(f\"오류 발생: {response.status_code} - {response.text}\")"
   ]
  },
  {
   "cell_type": "code",
   "execution_count": null,
   "metadata": {},
   "outputs": [],
   "source": []
  }
 ],
 "metadata": {
  "kernelspec": {
   "display_name": "aishorts",
   "language": "python",
   "name": "python3"
  },
  "language_info": {
   "codemirror_mode": {
    "name": "ipython",
    "version": 3
   },
   "file_extension": ".py",
   "mimetype": "text/x-python",
   "name": "python",
   "nbconvert_exporter": "python",
   "pygments_lexer": "ipython3",
   "version": "3.11.11"
  }
 },
 "nbformat": 4,
 "nbformat_minor": 2
}
