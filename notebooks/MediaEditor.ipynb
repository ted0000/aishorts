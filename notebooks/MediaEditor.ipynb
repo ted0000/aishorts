{
 "cells": [
  {
   "cell_type": "code",
   "execution_count": 1,
   "metadata": {},
   "outputs": [],
   "source": [
    "import sys\n",
    "import os\n",
    "\n",
    "current_dir = os.path.dirname(os.path.abspath('__file__'))\n",
    "parent_dir = os.path.dirname(current_dir)\n",
    "# 상위 디렉토리를 sys.path에 추가\n",
    "if parent_dir not in sys.path:\n",
    "    sys.path.append(parent_dir)"
   ]
  },
  {
   "cell_type": "code",
   "execution_count": 3,
   "metadata": {},
   "outputs": [],
   "source": [
    "from core.media.MediaEditor import MediaEditor\n",
    "\n",
    "root_path = parent_dir\n",
    "# media_path = os.path.join(root_path, 'temp', 'leejinwoo.m4a')\n",
    "media_path = os.path.join(root_path, 'temp', 'woman_voice_50sec.mp3')\n",
    "\n",
    "media_editor = MediaEditor(media_path)"
   ]
  },
  {
   "cell_type": "code",
   "execution_count": 4,
   "metadata": {},
   "outputs": [
    {
     "name": "stdout",
     "output_type": "stream",
     "text": [
      "MoviePy - Writing audio in /Users/1004507/work/aishorts/temp/woman_voice_30sec.mp3\n"
     ]
    },
    {
     "name": "stderr",
     "output_type": "stream",
     "text": [
      "                                                                    "
     ]
    },
    {
     "name": "stdout",
     "output_type": "stream",
     "text": [
      "MoviePy - Done.\n"
     ]
    },
    {
     "name": "stderr",
     "output_type": "stream",
     "text": [
      "\r"
     ]
    },
    {
     "data": {
      "text/plain": [
       "'/Users/1004507/work/aishorts/temp/woman_voice_30sec.mp3'"
      ]
     },
     "execution_count": 4,
     "metadata": {},
     "output_type": "execute_result"
    }
   ],
   "source": [
    "cut_duration = 30\n",
    "output_path = os.path.join(root_path, 'temp', 'na', 'woman_voice_30sec.mp3')\n",
    "media_editor.cut_duration(30, output_path=output_path)\n",
    "\n",
    "# converted_path = media_editor.convert_audio_format()"
   ]
  },
  {
   "cell_type": "code",
   "execution_count": 7,
   "metadata": {},
   "outputs": [
    {
     "name": "stdout",
     "output_type": "stream",
     "text": [
      "MoviePy - Writing audio in /Users/1004507/work/aishorts/temp/na/ted_audio_33s.mp3\n"
     ]
    },
    {
     "name": "stderr",
     "output_type": "stream",
     "text": [
      "                                                                    "
     ]
    },
    {
     "name": "stdout",
     "output_type": "stream",
     "text": [
      "MoviePy - Done.\n"
     ]
    },
    {
     "name": "stderr",
     "output_type": "stream",
     "text": [
      "\r"
     ]
    }
   ],
   "source": [
    "path = os.path.join(root_path, 'temp', 'na', 'ted_audio_33s.m4a')\n",
    "me = MediaEditor(path)\n",
    "\n",
    "output_path = os.path.join(root_path, 'temp', 'na', 'ted_audio_33s.mp3')\n",
    "new_path = me.convert_audio_format(output_ext='mp3', output_path=output_path)"
   ]
  },
  {
   "cell_type": "code",
   "execution_count": null,
   "metadata": {},
   "outputs": [],
   "source": []
  }
 ],
 "metadata": {
  "kernelspec": {
   "display_name": "aishorts",
   "language": "python",
   "name": "python3"
  },
  "language_info": {
   "codemirror_mode": {
    "name": "ipython",
    "version": 3
   },
   "file_extension": ".py",
   "mimetype": "text/x-python",
   "name": "python",
   "nbconvert_exporter": "python",
   "pygments_lexer": "ipython3",
   "version": "3.11.11"
  }
 },
 "nbformat": 4,
 "nbformat_minor": 2
}
