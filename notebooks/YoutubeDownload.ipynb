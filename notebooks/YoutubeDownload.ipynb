{
 "cells": [
  {
   "cell_type": "code",
   "execution_count": 1,
   "metadata": {},
   "outputs": [],
   "source": [
    "from yt_dlp import YoutubeDL\n",
    "import os\n",
    "\n",
    "current_directory = os.getcwd()\n",
    "download_filepath = os.path.join(current_directory, \"downloaded.mp4\")\n",
    "\n",
    "def download_vertical_video(url, download_filepath):        \n",
    "    # Temporary directory\n",
    "    output_path = download_filepath\n",
    "\n",
    "    # yt-dlp options\n",
    "    ydl_opts = {\n",
    "        'format': 'bestvideo[width<=720][height>=1280]+bestaudio/best',  # Select vertical format with 9:16 ratio\n",
    "        'outtmpl': output_path,               # Output template\n",
    "        'merge_output_format': 'mp4',         # Merge video and audio into mp4\n",
    "    }\n",
    "    \n",
    "    try:\n",
    "        with YoutubeDL(ydl_opts) as ydl:\n",
    "            ydl.download([url])\n",
    "            print(f\"Video downloaded successfully to: {output_path}\")\n",
    "            return output_path\n",
    "    except Exception as e:\n",
    "        print(f\"An error occurred while downloading the video: {e}\")\n",
    "        return None"
   ]
  },
  {
   "cell_type": "code",
   "execution_count": 7,
   "metadata": {},
   "outputs": [
    {
     "name": "stdout",
     "output_type": "stream",
     "text": [
      "[youtube] Extracting URL: https://www.youtube.com/watch?v=44aGKotSvhY\n",
      "[youtube] 44aGKotSvhY: Downloading webpage\n",
      "[youtube] 44aGKotSvhY: Downloading ios player API JSON\n",
      "[youtube] 44aGKotSvhY: Downloading mweb player API JSON\n",
      "[youtube] 44aGKotSvhY: Downloading m3u8 information\n",
      "[info] 44aGKotSvhY: Downloading 1 format(s): 18\n",
      "[download] Destination: /Users/1004507/work/aishorts/notebooks/downloaded.mp4\n",
      "[download] 100% of   97.55MiB in 00:00:26 at 3.70MiB/s     \n",
      "Video downloaded successfully to: /Users/1004507/work/aishorts/notebooks/downloaded.mp4\n"
     ]
    }
   ],
   "source": [
    "# Download 김지윤의 지식플레이 (중년 여성 교수님 목소리) \n",
    "# url = 'https://youtu.be/NCVrubUP58I?si=Zf1O5EjDsR_zRB3O'\n",
    "# 김덕진 shorts\n",
    "url = 'https://www.youtube.com/watch?v=44aGKotSvhY'\n",
    "\n",
    "downloaded_file = download_vertical_video(url, download_filepath)"
   ]
  },
  {
   "cell_type": "code",
   "execution_count": 3,
   "metadata": {},
   "outputs": [],
   "source": [
    "import sys\n",
    "current_directory = os.getcwd()\n",
    "parent_dir = os.path.dirname(current_directory)\n",
    "# 상위 디렉토리를 sys.path에 추가\n",
    "if parent_dir not in sys.path:\n",
    "    sys.path.append(parent_dir)"
   ]
  },
  {
   "cell_type": "code",
   "execution_count": 4,
   "metadata": {},
   "outputs": [
    {
     "data": {
      "text/plain": [
       "{'duration': 39.9, 'fps': 23.976023976023978, 'resolution': (720, 1280)}"
      ]
     },
     "execution_count": 4,
     "metadata": {},
     "output_type": "execute_result"
    }
   ],
   "source": [
    "from core.media.MediaEditor import MediaEditor\n",
    "\n",
    "path = '/Users/1004507/work/aishorts/notebooks/downloaded.mp4'\n",
    "me = MediaEditor(path)\n",
    "info = me.get_info()\n",
    "info"
   ]
  }
 ],
 "metadata": {
  "kernelspec": {
   "display_name": "aishorts",
   "language": "python",
   "name": "python3"
  },
  "language_info": {
   "codemirror_mode": {
    "name": "ipython",
    "version": 3
   },
   "file_extension": ".py",
   "mimetype": "text/x-python",
   "name": "python",
   "nbconvert_exporter": "python",
   "pygments_lexer": "ipython3",
   "version": "3.11.11"
  }
 },
 "nbformat": 4,
 "nbformat_minor": 2
}
